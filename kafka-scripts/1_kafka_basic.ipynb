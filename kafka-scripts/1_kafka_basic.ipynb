{
 "cells": [
  {
   "cell_type": "markdown",
   "metadata": {},
   "source": [
    "## Create and Produce Kafka message"
   ]
  },
  {
   "cell_type": "code",
   "execution_count": 7,
   "metadata": {},
   "outputs": [
    {
     "name": "stdout",
     "output_type": "stream",
     "text": [
      "Message sent to Kafka topic successfully.\n"
     ]
    }
   ],
   "source": [
    "from kafka import KafkaProducer\n",
    "import json\n",
    "\n",
    "# Initialize Kafka producer\n",
    "producer = KafkaProducer(bootstrap_servers=['localhost:9094'],\n",
    "                         value_serializer=lambda v: json.dumps(v).encode('utf-8'))\n",
    "\n",
    "# Message to be sent\n",
    "message = {\"data\": \"Sample message to Kafka topic\"}\n",
    "\n",
    "# Topic to send the message\n",
    "topic_name = 'sample_topic'\n",
    "\n",
    "# Send message to Kafka\n",
    "producer.send(topic_name, value=message)\n",
    "\n",
    "# Ensure all messages are sent\n",
    "producer.flush()\n",
    "\n",
    "print(\"Message sent to Kafka topic successfully.\")\n"
   ]
  },
  {
   "cell_type": "markdown",
   "metadata": {},
   "source": [
    "## Consume message from Kafka"
   ]
  },
  {
   "cell_type": "code",
   "execution_count": null,
   "metadata": {},
   "outputs": [],
   "source": [
    "from kafka import KafkaConsumer\n",
    "\n",
    "# Initialize Kafka consumer\n",
    "consumer = KafkaConsumer('sample_topic',\n",
    "                         bootstrap_servers=['localhost:9094'],\n",
    "                         auto_offset_reset='earliest',\n",
    "                         enable_auto_commit=True,\n",
    "                         group_id='my-group',\n",
    "                         value_deserializer=lambda x: json.loads(x.decode('utf-8')))\n",
    "\n",
    "print(\"Starting the consumer\")\n",
    "\n",
    "# Consume messages (alway listen)\n",
    "for message in consumer:\n",
    "    print(f\"Received message: {message.value}\")"
   ]
  }
 ],
 "metadata": {
  "kernelspec": {
   "display_name": "env",
   "language": "python",
   "name": "python3"
  },
  "language_info": {
   "codemirror_mode": {
    "name": "ipython",
    "version": 3
   },
   "file_extension": ".py",
   "mimetype": "text/x-python",
   "name": "python",
   "nbconvert_exporter": "python",
   "pygments_lexer": "ipython3",
   "version": "3.11.8"
  }
 },
 "nbformat": 4,
 "nbformat_minor": 2
}
